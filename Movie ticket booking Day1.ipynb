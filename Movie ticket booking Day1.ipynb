{
 "cells": [
  {
   "cell_type": "code",
   "execution_count": null,
   "id": "336502da",
   "metadata": {},
   "outputs": [],
   "source": [
    "\n",
    "# Function\n",
    "# Dictionary\n",
    "# Conditional loop\n",
    "# OOP\n",
    "# Json\n",
    "# Error Handling\n",
    "# File handling\n",
    "\n",
    "\n"
   ]
  },
  {
   "cell_type": "code",
   "execution_count": null,
   "id": "515ceb33",
   "metadata": {},
   "outputs": [],
   "source": [
    "seatnos = rowno_colmno"
   ]
  },
  {
   "cell_type": "code",
   "execution_count": 36,
   "id": "1d5ce477",
   "metadata": {},
   "outputs": [],
   "source": [
    "class Movie:\n",
    "    def __init__(self,rows,colms):\n",
    "        self.tot_seats = rows*colms\n",
    "        self.all_seats =[[str(i)+'_'+str(j) for j in range(colms)]for i in range(rows)]\n",
    "        self.Booked_ticket_person = [[None for j in range(colms)]for i in range(rows)]\n",
    "        self.ticket_price = 100\n",
    "        self.total_income = 0\n",
    "        self.booked_seat = 0\n",
    "        \n",
    "    def book_ticket(self,name,row,col,phone,age,gender):\n",
    "        if self.all_seats[row][col] == str(row)+'_'+str(col):\n",
    "            self.preson_details = {\n",
    "                'name' : name,\n",
    "                'phone' : phone,\n",
    "                'gender' : gender,\n",
    "                'age':age\n",
    "            }\n",
    "            self.Booked_ticket_person[row][col] = self.preson_details\n",
    "            self.all_seats[row][col] = 'B'\n",
    "            self.total_income+=self.ticket_price\n",
    "            self.booked_seat+=1\n",
    "            print('Your seat has been Booked!!')\n",
    "            \n",
    "        else:\n",
    "            print('The seat is already booked!!')\n",
    "            \n",
    "            \n",
    "    def check_availability(self,row,col):\n",
    "        if self.Booked_ticket_person[row][col] is None:\n",
    "            print('The seat is available')\n",
    "            \n",
    "        else:\n",
    "            print('The seat is already booked by')\n",
    "            person = self.Booked_ticket_person[row][col]\n",
    "            print(f'{person}')\n",
    "        \n",
    "            \n",
    "    \n",
    "    def print_total_seats(self):\n",
    "        print(f'Total number of seats {self.tot_seats}')\n",
    "        \n",
    "    def show_seats(self):\n",
    "        for row in self.all_seats:\n",
    "            for each_seat in row:\n",
    "                print(each_seat,end = ' ')\n",
    "            print('\\n-----------------\\n')\n",
    "            \n",
    "    def states(self):\n",
    "        print(f'Number of tickets purchased {self.booked_seat} ')\n",
    "        print(f'Earnings {self.total_income} ')\n",
    "        \n",
    "    def cancel(self,row,col):\n",
    "        if self.Booked_ticket_person[row][col] is None:\n",
    "            print('The seat is not booked')\n",
    "        else:\n",
    "            self.Booked_ticket_person[row][col] = None\n",
    "            self.all_seats[row][col] = str(row)+'_'+str(col)\n",
    "            self.total_income-=self.ticket_price\n",
    "            self.booked_seat-=1\n",
    "            print('your ticket is cancelled')\n",
    "            \n",
    "    def available_seats(self):\n",
    "        print(f'{self.tot_seats-self.booked_seat}')\n",
    "            \n",
    "            \n",
    "        \n",
    "        \n",
    "        "
   ]
  },
  {
   "cell_type": "code",
   "execution_count": 37,
   "id": "5b89ad1b",
   "metadata": {
    "scrolled": true
   },
   "outputs": [
    {
     "name": "stdout",
     "output_type": "stream",
     "text": [
      "Your seat has been Booked!!\n",
      "Your seat has been Booked!!\n",
      "The seat is already booked by\n",
      "{'name': 'Pritom', 'phone': 293829382, 'gender': 'male', 'age': 24}\n",
      "Number of tickets purchased 2 \n",
      "Earnings 200 \n",
      "your ticket is cancelled\n",
      "Number of tickets purchased 1 \n",
      "Earnings 100 \n",
      "11\n"
     ]
    }
   ],
   "source": [
    "Edyoda_theatre  = Movie(3,4)\n",
    "# Edyoda_theatre.print_total_seats()\n",
    "# Edyoda_theatre.show_seats()\n",
    "Edyoda_theatre.book_ticket('Ramya',2,2,293829382,24,'Female')\n",
    "# Edyoda_theatre.show_seats()\n",
    "Edyoda_theatre.book_ticket('Pritom',1,0,293829382,24,'male')\n",
    "Edyoda_theatre.check_availability(1,0)\n",
    "\n",
    "Edyoda_theatre.states()\n",
    "Edyoda_theatre.cancel(1,0)\n",
    "Edyoda_theatre.states()\n",
    "Edyoda_theatre.available_seats()\n",
    "\n",
    "\n",
    "# PVR = Movie(25,20)\n",
    "# PVR.print_total_seats()\n",
    "# PVR.show_seats()\n",
    "\n"
   ]
  },
  {
   "cell_type": "code",
   "execution_count": 14,
   "id": "72232019",
   "metadata": {},
   "outputs": [
    {
     "name": "stdout",
     "output_type": "stream",
     "text": [
      "[[None, None], [None, None]]\n"
     ]
    }
   ],
   "source": [
    "rows = 2\n",
    "colms = 2\n",
    "\n",
    "# list =  [0_0 0_1 1_0 1_1]\n",
    "\n",
    "# list1 = [[str(i)+str(j) for j in range(col)] for i in range(row)]\n",
    "\n",
    "print([[None for j in range(colms)]for i in range(rows)])\n"
   ]
  },
  {
   "cell_type": "code",
   "execution_count": null,
   "id": "9c05d638",
   "metadata": {},
   "outputs": [],
   "source": [
    "[[None,None][person1,None]]"
   ]
  },
  {
   "cell_type": "code",
   "execution_count": 12,
   "id": "15b3be5d",
   "metadata": {},
   "outputs": [
    {
     "name": "stdout",
     "output_type": "stream",
     "text": [
      "[['00', '01'], ['10', '11']]\n"
     ]
    }
   ],
   "source": [
    "print(list1)"
   ]
  },
  {
   "cell_type": "code",
   "execution_count": null,
   "id": "cbd8d2eb",
   "metadata": {},
   "outputs": [],
   "source": [
    "f"
   ]
  },
  {
   "cell_type": "code",
   "execution_count": 8,
   "id": "ff4472ea",
   "metadata": {},
   "outputs": [
    {
     "name": "stdout",
     "output_type": "stream",
     "text": [
      "Pritom is my name, My age is 0 \n"
     ]
    }
   ],
   "source": [
    "name = \"Pritom\"\n",
    "print('%s is my name, My age is %d '%('Pritom',0))"
   ]
  },
  {
   "cell_type": "code",
   "execution_count": null,
   "id": "0883b1a0",
   "metadata": {},
   "outputs": [],
   "source": [
    "'My name is', 'pritom', 'and I am ',10,' years old'"
   ]
  },
  {
   "cell_type": "code",
   "execution_count": 9,
   "id": "5c89161a",
   "metadata": {},
   "outputs": [
    {
     "name": "stdout",
     "output_type": "stream",
     "text": [
      "11\n"
     ]
    }
   ],
   "source": []
  },
  {
   "cell_type": "code",
   "execution_count": null,
   "id": "6bf079f5",
   "metadata": {},
   "outputs": [],
   "source": []
  }
 ],
 "metadata": {
  "kernelspec": {
   "display_name": "Python 3 (ipykernel)",
   "language": "python",
   "name": "python3"
  },
  "language_info": {
   "codemirror_mode": {
    "name": "ipython",
    "version": 3
   },
   "file_extension": ".py",
   "mimetype": "text/x-python",
   "name": "python",
   "nbconvert_exporter": "python",
   "pygments_lexer": "ipython3",
   "version": "3.7.8"
  }
 },
 "nbformat": 4,
 "nbformat_minor": 5
}

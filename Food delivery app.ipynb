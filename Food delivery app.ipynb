{
 "cells": [
  {
   "cell_type": "code",
   "execution_count": 150,
   "id": "93054558",
   "metadata": {},
   "outputs": [],
   "source": [
    "class Restaurant:\n",
    "    def __init__(self,name,add):\n",
    "        self.name = name\n",
    "        self.add = add\n",
    "        self.menu = dict()\n",
    "        self.orders = []\n",
    "        \n",
    "    def __repr__(self):\n",
    "        return f'name: {self.name}, Add:{self.add}'\n",
    "    \n",
    "    def add_menu(self,name,price):\n",
    "        self.menu.update({name:price})\n",
    "        \n",
    "    def print_menu(self):\n",
    "        for key,value in self.menu.items():\n",
    "            print(f'{key} -------> {str(value)}')\n",
    "            \n",
    "    def order_recieved(self,new_order):\n",
    "        self.orders.append(new_order) #order is recived from a user\n",
    "        \n",
    "    def print_orders(self):\n",
    "        for order in self.orders:\n",
    "            print(order)\n",
    "            \n",
    "    def deliver_order(self):\n",
    "        for order in self.orders:\n",
    "            if order.status =='Pending':\n",
    "                order.change_status()\n",
    "                print (order)\n",
    "        \n",
    "    def calculate_income(self):\n",
    "        income = 0\n",
    "        Users = set()\n",
    "        for order in self.orders:\n",
    "            if order.status == 'Delivered':\n",
    "                if order.username.name in Users:\n",
    "                    discount = 0\n",
    "                else:\n",
    "                    discount = 5\n",
    "                    Users.add(order.username.name)\n",
    "                    print(f'{discount}% discount is given to {order.username.name}')\n",
    "                    \n",
    "                item = order.item\n",
    "                qty = order.qty\n",
    "                price = self.menu.get(item)\n",
    "                income+=((price*qty)*((100-discount)/100))\n",
    "        print (income)\n",
    "        \n",
    "    "
   ]
  },
  {
   "cell_type": "code",
   "execution_count": 151,
   "id": "9802409b",
   "metadata": {},
   "outputs": [],
   "source": [
    "class User:\n",
    "    def __init__(self,name,add,phone):\n",
    "        self.name = name\n",
    "        self.add = add\n",
    "        self.phone = phone\n",
    "        self.orders = [] #user's orders lisrt\n",
    "    def __repr__(self):\n",
    "        return f'name : {self.name},add : {self.add}, phone : {self.phone}'\n",
    "    \n",
    "    def print_menu(self,res_name):\n",
    "        res_name.print_menu()\n",
    "        \n",
    "    def order_food(self,res_name,item,qty):\n",
    "        new_order = Order(self,res_name,item,qty) #new order object is created\n",
    "        self.orders.append(new_order)      # order is appended to the orders list of user\n",
    "        res_name.order_recieved(new_order) # because of this method rest. will recive the ordr\n",
    "        \n",
    "    def cancel_order(self):\n",
    "        last_order = self.orders[-1]\n",
    "        last_order.cancel_order()\n",
    "        \n",
    "        \n",
    "        \n",
    "        "
   ]
  },
  {
   "cell_type": "code",
   "execution_count": 152,
   "id": "5b3b5a34",
   "metadata": {},
   "outputs": [],
   "source": [
    "class Order:\n",
    "    def __init__(self,username,rest_name,item,qty):\n",
    "        self.username=username\n",
    "        self.rest_name = rest_name\n",
    "        self.item = item\n",
    "        self.qty = qty\n",
    "        self.status = 'Pending'\n",
    "        \n",
    "    def change_status(self):\n",
    "        self.status = 'Delivered'\n",
    "        \n",
    "    def cancel_order(self):\n",
    "        if self.status != 'Delivered':\n",
    "            self.status = 'Cancel'\n",
    "        \n",
    "    def __repr__(self):\n",
    "        return f'user:{self.username.name}, item : {self.item}, qty : {self.qty}, status: {self.status}'"
   ]
  },
  {
   "cell_type": "code",
   "execution_count": 153,
   "id": "8e923f6a",
   "metadata": {},
   "outputs": [],
   "source": [
    "KFC = Restaurant('KFC','HYD')\n",
    "Pista_House = Restaurant('Pista_House','HYD')\n",
    "Pista_House.add_menu('Biriyani',150)\n",
    "KFC.add_menu('zingerburger',150)"
   ]
  },
  {
   "cell_type": "code",
   "execution_count": null,
   "id": "0986879f",
   "metadata": {},
   "outputs": [],
   "source": []
  },
  {
   "cell_type": "code",
   "execution_count": 154,
   "id": "6973c6b4",
   "metadata": {},
   "outputs": [],
   "source": [
    "pritom = User('Pritom','HYD','1213131331')"
   ]
  },
  {
   "cell_type": "code",
   "execution_count": 155,
   "id": "6c02be6c",
   "metadata": {},
   "outputs": [
    {
     "name": "stdout",
     "output_type": "stream",
     "text": [
      "Biriyani -------> 150\n"
     ]
    }
   ],
   "source": [
    "pritom.print_menu(Pista_House)"
   ]
  },
  {
   "cell_type": "code",
   "execution_count": 156,
   "id": "631a8135",
   "metadata": {},
   "outputs": [],
   "source": [
    "pritom.order_food(Pista_House,'Biriyani',3)"
   ]
  },
  {
   "cell_type": "code",
   "execution_count": 157,
   "id": "ed0e1665",
   "metadata": {},
   "outputs": [
    {
     "name": "stdout",
     "output_type": "stream",
     "text": [
      "user:Pritom, item : Biriyani, qty : 3, status: Pending\n"
     ]
    }
   ],
   "source": [
    "Pista_House.print_orders()"
   ]
  },
  {
   "cell_type": "code",
   "execution_count": 158,
   "id": "f5ced9a0",
   "metadata": {},
   "outputs": [
    {
     "name": "stdout",
     "output_type": "stream",
     "text": [
      "user:Pritom, item : Biriyani, qty : 3, status: Delivered\n"
     ]
    }
   ],
   "source": [
    "Pista_House.deliver_order()"
   ]
  },
  {
   "cell_type": "code",
   "execution_count": 159,
   "id": "3b0075a0",
   "metadata": {},
   "outputs": [],
   "source": [
    "abhi = User('Abhi','HYD','1213131331')"
   ]
  },
  {
   "cell_type": "code",
   "execution_count": 160,
   "id": "e7ef6053",
   "metadata": {},
   "outputs": [
    {
     "name": "stdout",
     "output_type": "stream",
     "text": [
      "zingerburger -------> 150\n"
     ]
    }
   ],
   "source": [
    "abhi.print_menu(KFC)"
   ]
  },
  {
   "cell_type": "code",
   "execution_count": 161,
   "id": "1548cc23",
   "metadata": {},
   "outputs": [],
   "source": [
    "abhi.order_food(KFC,'zingerburger',1)"
   ]
  },
  {
   "cell_type": "code",
   "execution_count": 162,
   "id": "810e9946",
   "metadata": {},
   "outputs": [
    {
     "name": "stdout",
     "output_type": "stream",
     "text": [
      "user:Abhi, item : zingerburger, qty : 1, status: Pending\n"
     ]
    }
   ],
   "source": [
    "KFC.print_orders()"
   ]
  },
  {
   "cell_type": "code",
   "execution_count": 163,
   "id": "2168d4f7",
   "metadata": {},
   "outputs": [],
   "source": [
    "pritom.order_food(KFC,'zingerburger',5)\n",
    "abhi.order_food(KFC,'zingerburger',4)\n",
    "pritom.order_food(KFC,'zingerburger',2)"
   ]
  },
  {
   "cell_type": "code",
   "execution_count": 164,
   "id": "af6040e3",
   "metadata": {},
   "outputs": [],
   "source": [
    "pritom.cancel_order()"
   ]
  },
  {
   "cell_type": "code",
   "execution_count": null,
   "id": "8886b90a",
   "metadata": {},
   "outputs": [],
   "source": []
  },
  {
   "cell_type": "code",
   "execution_count": 168,
   "id": "b94fd450",
   "metadata": {},
   "outputs": [],
   "source": [
    "KFC.deliver_order()"
   ]
  },
  {
   "cell_type": "code",
   "execution_count": 169,
   "id": "2638476e",
   "metadata": {},
   "outputs": [
    {
     "name": "stdout",
     "output_type": "stream",
     "text": [
      "5% discount is given to Abhi\n",
      "5% discount is given to Pritom\n",
      "1455.0\n"
     ]
    }
   ],
   "source": [
    "KFC.calculate_income()"
   ]
  },
  {
   "cell_type": "code",
   "execution_count": 97,
   "id": "d243194e",
   "metadata": {},
   "outputs": [],
   "source": [
    "dict1 = {'name':'Pritom','age':29}"
   ]
  },
  {
   "cell_type": "code",
   "execution_count": 102,
   "id": "3eadd5d2",
   "metadata": {},
   "outputs": [
    {
     "data": {
      "text/plain": [
       "'Pritom'"
      ]
     },
     "execution_count": 102,
     "metadata": {},
     "output_type": "execute_result"
    }
   ],
   "source": [
    "dict1.get('name','Key is Not present')"
   ]
  },
  {
   "cell_type": "code",
   "execution_count": 127,
   "id": "86b0506f",
   "metadata": {},
   "outputs": [
    {
     "data": {
      "text/plain": [
       "9995.0"
      ]
     },
     "execution_count": 127,
     "metadata": {},
     "output_type": "execute_result"
    }
   ],
   "source": [
    "100 *((100-5)/100)"
   ]
  },
  {
   "cell_type": "code",
   "execution_count": 172,
   "id": "28af2d27",
   "metadata": {},
   "outputs": [],
   "source": [
    "def add(a,b):\n",
    "    return (a+b)"
   ]
  },
  {
   "cell_type": "code",
   "execution_count": 173,
   "id": "d7fc2f8b",
   "metadata": {},
   "outputs": [
    {
     "data": {
      "text/plain": [
       "3"
      ]
     },
     "execution_count": 173,
     "metadata": {},
     "output_type": "execute_result"
    }
   ],
   "source": [
    "add(1,2)"
   ]
  },
  {
   "cell_type": "code",
   "execution_count": null,
   "id": "5282320c",
   "metadata": {},
   "outputs": [],
   "source": [
    "add,1,2,3"
   ]
  }
 ],
 "metadata": {
  "kernelspec": {
   "display_name": "Python 3 (ipykernel)",
   "language": "python",
   "name": "python3"
  },
  "language_info": {
   "codemirror_mode": {
    "name": "ipython",
    "version": 3
   },
   "file_extension": ".py",
   "mimetype": "text/x-python",
   "name": "python",
   "nbconvert_exporter": "python",
   "pygments_lexer": "ipython3",
   "version": "3.7.8"
  }
 },
 "nbformat": 4,
 "nbformat_minor": 5
}

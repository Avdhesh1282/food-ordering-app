{
 "cells": [
  {
   "cell_type": "code",
   "execution_count": null,
   "id": "a3a2c8de",
   "metadata": {},
   "outputs": [],
   "source": [
    "User\n",
    "Restaurant"
   ]
  },
  {
   "cell_type": "code",
   "execution_count": 61,
   "id": "93054558",
   "metadata": {},
   "outputs": [],
   "source": [
    "class Restaurant:\n",
    "    def __init__(self,name,add):\n",
    "        self.name = name\n",
    "        self.add = add\n",
    "        self.menu = dict()\n",
    "        self.orders = []\n",
    "        \n",
    "    def __repr__(self):\n",
    "        return f'name: {self.name}, Add:{self.add}'\n",
    "    \n",
    "    def add_menu(self,name,price):\n",
    "        self.menu.update({name:price})\n",
    "        \n",
    "    def print_menu(self):\n",
    "        for key,value in self.menu.items():\n",
    "            print(f'{key} -------> {str(value)}')\n",
    "            \n",
    "    def order_recieved(self,new_order):\n",
    "        self.orders.append(new_order)\n",
    "        \n",
    "    def print_orders(self):\n",
    "        for order in self.orders:\n",
    "            print(order)\n",
    "        \n",
    "    "
   ]
  },
  {
   "cell_type": "code",
   "execution_count": 62,
   "id": "9802409b",
   "metadata": {},
   "outputs": [],
   "source": [
    "class User:\n",
    "    def __init__(self,name,add,phone):\n",
    "        self.name = name\n",
    "        self.add = add\n",
    "        self.phone = phone\n",
    "        self.orders = []\n",
    "    def __repr__(self):\n",
    "        return f'name : {self.name},add : {self.add}, phone : {self.phone}'\n",
    "    \n",
    "    def print_menu(self,res_name):\n",
    "        res_name.print_menu()\n",
    "        \n",
    "    def order_food(self,res_name,item,qty):\n",
    "        new_order = Order(self,res_name,item,qty)\n",
    "        self.orders.append(new_order)\n",
    "        res_name.order_recieved(new_order)\n",
    "        \n",
    "        \n",
    "        \n",
    "        "
   ]
  },
  {
   "cell_type": "code",
   "execution_count": 63,
   "id": "5b3b5a34",
   "metadata": {},
   "outputs": [],
   "source": [
    "class Order:\n",
    "    def __init__(self,username,rest_name,item,qty):\n",
    "        self.username=username\n",
    "        self.rest_name = rest_name\n",
    "        self.item = item\n",
    "        self.qty = qty\n",
    "        self.status = 'Pending'\n",
    "    def change_status(self):\n",
    "        self.status = 'Delivered'\n",
    "    def __repr__(self):\n",
    "        return f'item : {self.item}, qty : {self.qty}'"
   ]
  },
  {
   "cell_type": "code",
   "execution_count": 64,
   "id": "8e923f6a",
   "metadata": {},
   "outputs": [],
   "source": [
    "KFC = Restaurant('KFC','HYD')\n",
    "Pista_House = Restaurant('Pista_House','HYD')\n",
    "Pista_House.add_menu('Biriyani',150)\n",
    "KFC.add_menu('zingerburger',150)"
   ]
  },
  {
   "cell_type": "code",
   "execution_count": null,
   "id": "0986879f",
   "metadata": {},
   "outputs": [],
   "source": []
  },
  {
   "cell_type": "code",
   "execution_count": 65,
   "id": "6973c6b4",
   "metadata": {},
   "outputs": [],
   "source": [
    "pritom = User('Pritom','HYD','1213131331')"
   ]
  },
  {
   "cell_type": "code",
   "execution_count": 66,
   "id": "6c02be6c",
   "metadata": {},
   "outputs": [
    {
     "name": "stdout",
     "output_type": "stream",
     "text": [
      "Biriyani -------> 150\n"
     ]
    }
   ],
   "source": [
    "pritom.print_menu(Pista_House)"
   ]
  },
  {
   "cell_type": "code",
   "execution_count": 67,
   "id": "631a8135",
   "metadata": {},
   "outputs": [],
   "source": [
    "pritom.order_food(Pista_House,'Biriyani',3)"
   ]
  },
  {
   "cell_type": "code",
   "execution_count": 68,
   "id": "ed0e1665",
   "metadata": {},
   "outputs": [
    {
     "name": "stdout",
     "output_type": "stream",
     "text": [
      "item : Biriyani, qty : 3\n"
     ]
    }
   ],
   "source": [
    "Pista_House.print_orders()"
   ]
  },
  {
   "cell_type": "code",
   "execution_count": null,
   "id": "f5ced9a0",
   "metadata": {},
   "outputs": [],
   "source": []
  }
 ],
 "metadata": {
  "kernelspec": {
   "display_name": "Python 3 (ipykernel)",
   "language": "python",
   "name": "python3"
  },
  "language_info": {
   "codemirror_mode": {
    "name": "ipython",
    "version": 3
   },
   "file_extension": ".py",
   "mimetype": "text/x-python",
   "name": "python",
   "nbconvert_exporter": "python",
   "pygments_lexer": "ipython3",
   "version": "3.7.8"
  }
 },
 "nbformat": 4,
 "nbformat_minor": 5
}

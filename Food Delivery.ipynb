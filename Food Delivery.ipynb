{
 "cells": [
  {
   "cell_type": "code",
   "execution_count": null,
   "id": "e4cb05a9",
   "metadata": {},
   "outputs": [],
   "source": [
    "Resturant    User  order"
   ]
  },
  {
   "cell_type": "code",
   "execution_count": 13,
   "id": "73f90b8f",
   "metadata": {},
   "outputs": [],
   "source": [
    "class Restaurant:\n",
    "    def __init__(self,name,add):\n",
    "        self.name = name\n",
    "        self.add = add\n",
    "        self.menu = dict()\n",
    "        self.orders = []\n",
    "        \n",
    "    def add_menu(self,name,price):\n",
    "        self.menu.update({name:price})\n",
    "        \n",
    "    def print_menu(self):\n",
    "        for key,value in self.menu.items():\n",
    "            print(f'{key} ----> {value}')\n",
    "        \n",
    "        \n",
    "        \n",
    "    def __repr__(self):\n",
    "        return f'name: {self.name}, Location:{self.add}'"
   ]
  },
  {
   "cell_type": "code",
   "execution_count": 21,
   "id": "bf1e67fd",
   "metadata": {},
   "outputs": [],
   "source": [
    "class User:\n",
    "    def __init__(self,name,add,phone):\n",
    "        self.name = name\n",
    "        self.add = add\n",
    "        self.phone = phone\n",
    "    def __repr__(self):\n",
    "        return f'name: {self.name}, Location:{self.add} Phone:{self.phone}'\n",
    "    \n",
    "    def print_menu(self,res_name):\n",
    "        res_name.print_menu()\n",
    "        \n",
    "    \n",
    "    "
   ]
  },
  {
   "cell_type": "code",
   "execution_count": 22,
   "id": "d1fb6fe6",
   "metadata": {},
   "outputs": [],
   "source": [
    "KFC = Restaurant('KFC','Hyderabad')"
   ]
  },
  {
   "cell_type": "code",
   "execution_count": 23,
   "id": "7713d56c",
   "metadata": {},
   "outputs": [
    {
     "name": "stdout",
     "output_type": "stream",
     "text": [
      "name: KFC, Location:Hyderabad\n"
     ]
    }
   ],
   "source": [
    "print(KFC)"
   ]
  },
  {
   "cell_type": "code",
   "execution_count": 24,
   "id": "56d3e80e",
   "metadata": {},
   "outputs": [],
   "source": [
    "KFC.add_menu('Chicken Zinger',55)\n",
    "KFC.add_menu('Chicken Popcorn',45)\n",
    "KFC.add_menu('Chicken Burger',105)\n"
   ]
  },
  {
   "cell_type": "code",
   "execution_count": 25,
   "id": "867f7e01",
   "metadata": {},
   "outputs": [
    {
     "name": "stdout",
     "output_type": "stream",
     "text": [
      "Chicken Zinger ----> 55\n",
      "Chicken Popcorn ----> 45\n",
      "Chicken Burger ----> 105\n"
     ]
    }
   ],
   "source": [
    "KFC.print_menu()"
   ]
  },
  {
   "cell_type": "code",
   "execution_count": 26,
   "id": "d5506ee2",
   "metadata": {},
   "outputs": [],
   "source": [
    "pritom = User('Pritom','Assam','323224242')"
   ]
  },
  {
   "cell_type": "code",
   "execution_count": 27,
   "id": "7199e556",
   "metadata": {},
   "outputs": [
    {
     "name": "stdout",
     "output_type": "stream",
     "text": [
      "name: Pritom, Location:Assam Phone:323224242\n"
     ]
    }
   ],
   "source": [
    "print(pritom)"
   ]
  },
  {
   "cell_type": "code",
   "execution_count": 28,
   "id": "fbc689d1",
   "metadata": {},
   "outputs": [
    {
     "name": "stdout",
     "output_type": "stream",
     "text": [
      "Chicken Zinger ----> 55\n",
      "Chicken Popcorn ----> 45\n",
      "Chicken Burger ----> 105\n"
     ]
    }
   ],
   "source": [
    "pritom.print_menu(KFC)"
   ]
  },
  {
   "cell_type": "code",
   "execution_count": null,
   "id": "5fd64a35",
   "metadata": {},
   "outputs": [],
   "source": []
  }
 ],
 "metadata": {
  "kernelspec": {
   "display_name": "Python 3 (ipykernel)",
   "language": "python",
   "name": "python3"
  },
  "language_info": {
   "codemirror_mode": {
    "name": "ipython",
    "version": 3
   },
   "file_extension": ".py",
   "mimetype": "text/x-python",
   "name": "python",
   "nbconvert_exporter": "python",
   "pygments_lexer": "ipython3",
   "version": "3.7.8"
  }
 },
 "nbformat": 4,
 "nbformat_minor": 5
}

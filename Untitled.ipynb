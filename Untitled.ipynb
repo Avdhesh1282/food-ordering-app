{
 "cells": [
  {
   "cell_type": "markdown",
   "id": "c1f7687a",
   "metadata": {},
   "source": [
    "### Inheritance"
   ]
  },
  {
   "cell_type": "markdown",
   "id": "9791ea4d",
   "metadata": {},
   "source": [
    "base class  -----> child class\n",
    "\n",
    "single inheritance"
   ]
  },
  {
   "cell_type": "code",
   "execution_count": 52,
   "id": "8ae445ea",
   "metadata": {},
   "outputs": [
    {
     "name": "stdout",
     "output_type": "stream",
     "text": [
      "Inside car class\n",
      "Inside Vehicle class\n"
     ]
    }
   ],
   "source": [
    "'''Base class'''\n",
    "class Vehicle:\n",
    "    '''constructor of the base class'''\n",
    "    def __init__(self,year):\n",
    "        print('Inside Vehicle class')\n",
    "        self.year = year\n",
    "        \n",
    "        \n",
    "'''Child class'''\n",
    "class Car(Vehicle):\n",
    "    '''constructor of the child class'''\n",
    "    def __init__(self,name,year):\n",
    "        print('Inside car class')\n",
    "        self.name = name\n",
    "        super().__init__(year) '''Run the init method of the first base class'''\n",
    "        \n",
    "car = Car('800',199)\n"
   ]
  },
  {
   "cell_type": "code",
   "execution_count": 54,
   "id": "d6cf594f",
   "metadata": {},
   "outputs": [
    {
     "data": {
      "text/plain": [
       "199"
      ]
     },
     "execution_count": 54,
     "metadata": {},
     "output_type": "execute_result"
    }
   ],
   "source": [
    "car.year"
   ]
  },
  {
   "cell_type": "code",
   "execution_count": 53,
   "id": "bbdab796",
   "metadata": {},
   "outputs": [
    {
     "data": {
      "text/plain": [
       "'800'"
      ]
     },
     "execution_count": 53,
     "metadata": {},
     "output_type": "execute_result"
    }
   ],
   "source": [
    "car.name"
   ]
  },
  {
   "cell_type": "code",
   "execution_count": 5,
   "id": "0b34a432",
   "metadata": {},
   "outputs": [
    {
     "name": "stdout",
     "output_type": "stream",
     "text": [
      "Inside car class\n"
     ]
    }
   ],
   "source": [
    "car.car_info()"
   ]
  },
  {
   "cell_type": "code",
   "execution_count": 6,
   "id": "3a88ff76",
   "metadata": {},
   "outputs": [
    {
     "name": "stdout",
     "output_type": "stream",
     "text": [
      "Inside Vehicle class\n"
     ]
    }
   ],
   "source": [
    "car.Vehicle_info()"
   ]
  },
  {
   "cell_type": "code",
   "execution_count": 8,
   "id": "be846cdb",
   "metadata": {},
   "outputs": [
    {
     "name": "stdout",
     "output_type": "stream",
     "text": [
      "Inside Vehicle class\n"
     ]
    }
   ],
   "source": [
    "vahi.Vehicle_info()"
   ]
  },
  {
   "cell_type": "markdown",
   "id": "18e58bed",
   "metadata": {},
   "source": [
    "Multiple Inheritance"
   ]
  },
  {
   "cell_type": "code",
   "execution_count": 9,
   "id": "3ff09a4a",
   "metadata": {},
   "outputs": [
    {
     "data": {
      "text/plain": [
       "'class1 -------> child class <--------- class2'"
      ]
     },
     "execution_count": 9,
     "metadata": {},
     "output_type": "execute_result"
    }
   ],
   "source": [
    "'''class1 -------> child class <--------- class2'''"
   ]
  },
  {
   "cell_type": "code",
   "execution_count": 3,
   "id": "695d43aa",
   "metadata": {},
   "outputs": [],
   "source": [
    "class Person:\n",
    "    def __init__(self,name):\n",
    "        print('Inside person')\n",
    "        self.name = name\n",
    "    def add(self):\n",
    "        print('adding numbers')\n",
    "\n",
    "class Company:\n",
    "    def __init__(self,comp_name,location):\n",
    "        print('inside company')\n",
    "        self.comp_name = comp_name\n",
    "        self.location = location\n",
    "        \n",
    "        \n",
    "class Employee(Person,Company,somthing):\n",
    "    def __init__(self,salary,name,comp_name,location):\n",
    "        self.salary = salary\n",
    "        super().__init__(name)\n",
    "        super(Person,self).__init__(comp_name,location)\n",
    "        super(Company,self).__init__() \n",
    "        \n",
    "    def __repr__(self):\n",
    "        return f'{self.name} {self.salary} {self.comp_name}'\n",
    "        \n",
    "        "
   ]
  },
  {
   "cell_type": "code",
   "execution_count": 4,
   "id": "8ad7819a",
   "metadata": {},
   "outputs": [
    {
     "name": "stdout",
     "output_type": "stream",
     "text": [
      "Inside person\n",
      "inside company\n",
      "pritom 234 Edyoda\n"
     ]
    }
   ],
   "source": [
    "emp = Employee('234','pritom','Edyoda')\n",
    "print(emp)"
   ]
  },
  {
   "cell_type": "code",
   "execution_count": 14,
   "id": "2680d370",
   "metadata": {},
   "outputs": [
    {
     "name": "stdout",
     "output_type": "stream",
     "text": [
      "Inside Person class\n",
      "name : Edyoda and age : Internet\n"
     ]
    }
   ],
   "source": [
    "emp.per_info('Edyoda','Internet')"
   ]
  },
  {
   "cell_type": "code",
   "execution_count": 15,
   "id": "0022fbbc",
   "metadata": {},
   "outputs": [
    {
     "name": "stdout",
     "output_type": "stream",
     "text": [
      "Inside Employee class\n",
      "salary : 131u1408u4184u18 and skills : alsdalda\n"
     ]
    }
   ],
   "source": [
    "emp.emp_info('131u1408u4184u18','alsdalda')"
   ]
  },
  {
   "cell_type": "code",
   "execution_count": 7,
   "id": "aded1ce0",
   "metadata": {},
   "outputs": [
    {
     "name": "stdout",
     "output_type": "stream",
     "text": [
      "False\n"
     ]
    }
   ],
   "source": [
    "a = (1,2,3)\n",
    "b = (1,2,3)\n",
    "print(a is b)"
   ]
  },
  {
   "cell_type": "code",
   "execution_count": 8,
   "id": "c8104055",
   "metadata": {},
   "outputs": [
    {
     "name": "stdout",
     "output_type": "stream",
     "text": [
      "True\n"
     ]
    }
   ],
   "source": [
    "a=[1,2,3]\n",
    "b=a\n",
    "print(a is b)"
   ]
  },
  {
   "cell_type": "code",
   "execution_count": null,
   "id": "65cb3b81",
   "metadata": {},
   "outputs": [],
   "source": [
    "r+"
   ]
  }
 ],
 "metadata": {
  "kernelspec": {
   "display_name": "Python 3 (ipykernel)",
   "language": "python",
   "name": "python3"
  },
  "language_info": {
   "codemirror_mode": {
    "name": "ipython",
    "version": 3
   },
   "file_extension": ".py",
   "mimetype": "text/x-python",
   "name": "python",
   "nbconvert_exporter": "python",
   "pygments_lexer": "ipython3",
   "version": "3.7.8"
  }
 },
 "nbformat": 4,
 "nbformat_minor": 5
}

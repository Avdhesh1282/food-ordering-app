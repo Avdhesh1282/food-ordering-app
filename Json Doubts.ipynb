{
 "cells": [
  {
   "cell_type": "code",
   "execution_count": null,
   "id": "ca7dc979",
   "metadata": {},
   "outputs": [],
   "source": [
    "dict => object\n",
    "list,tuple =>array\n",
    "str => string\n",
    "int,float => number\n",
    "True => true\n",
    "False => false\n",
    "None => null"
   ]
  },
  {
   "cell_type": "markdown",
   "id": "3d8110b1",
   "metadata": {},
   "source": [
    "### JSON (JavaScript Object Notation) "
   ]
  },
  {
   "cell_type": "code",
   "execution_count": 1,
   "id": "09ae1f40",
   "metadata": {},
   "outputs": [],
   "source": [
    "import json"
   ]
  },
  {
   "cell_type": "code",
   "execution_count": 23,
   "id": "81aeb673",
   "metadata": {},
   "outputs": [],
   "source": [
    "student = '[{\"name\":\"Vaibhab\",\"languages\":[\"python\",\"C++\"]},{\"name\":\"babu\",\"languages\":[\"python\",\"C++\"]},{\"name\":\"Sandeep\",\"languages\":[\"python\",\"C++\"]},{\"name\":\"Tejashri\",\"languages\":[\"python\",\"C++\"]}]'\n"
   ]
  },
  {
   "cell_type": "code",
   "execution_count": 24,
   "id": "bf175629",
   "metadata": {},
   "outputs": [
    {
     "name": "stdout",
     "output_type": "stream",
     "text": [
      "<class 'str'>\n"
     ]
    }
   ],
   "source": [
    "print(type(student))"
   ]
  },
  {
   "cell_type": "code",
   "execution_count": 25,
   "id": "3bbdac42",
   "metadata": {},
   "outputs": [],
   "source": [
    "student_dict = json.loads(student)"
   ]
  },
  {
   "cell_type": "code",
   "execution_count": 26,
   "id": "26d2ebab",
   "metadata": {},
   "outputs": [
    {
     "name": "stdout",
     "output_type": "stream",
     "text": [
      "[{'name': 'Vaibhab', 'languages': ['python', 'C++']}, {'name': 'babu', 'languages': ['python', 'C++']}, {'name': 'Sandeep', 'languages': ['python', 'C++']}, {'name': 'Tejashri', 'languages': ['python', 'C++']}]\n"
     ]
    }
   ],
   "source": [
    "print(student_dict)"
   ]
  },
  {
   "cell_type": "code",
   "execution_count": 28,
   "id": "c02089d1",
   "metadata": {},
   "outputs": [],
   "source": [
    "student_new = {'name':'Pritom','languages':['python','SQL']}"
   ]
  },
  {
   "cell_type": "code",
   "execution_count": 29,
   "id": "ba4fdba6",
   "metadata": {},
   "outputs": [],
   "source": [
    "student_dict.append(student_new)"
   ]
  },
  {
   "cell_type": "code",
   "execution_count": 30,
   "id": "4a181e6c",
   "metadata": {},
   "outputs": [
    {
     "name": "stdout",
     "output_type": "stream",
     "text": [
      "[{'name': 'Vaibhab', 'languages': ['python', 'C++']}, {'name': 'babu', 'languages': ['python', 'C++']}, {'name': 'Sandeep', 'languages': ['python', 'C++']}, {'name': 'Tejashri', 'languages': ['python', 'C++']}, {'name': 'Pritom', 'languages': ['python', 'SQL']}]\n"
     ]
    }
   ],
   "source": [
    "print(student_dict)"
   ]
  },
  {
   "cell_type": "code",
   "execution_count": 31,
   "id": "56f8b08f",
   "metadata": {},
   "outputs": [],
   "source": [
    "with open('Vaibhab.json','w') as json_file:\n",
    "    json.dump(student_dict,json_file)"
   ]
  },
  {
   "cell_type": "code",
   "execution_count": 32,
   "id": "60de65f4",
   "metadata": {},
   "outputs": [],
   "source": [
    "with open('Vaibhab.json','r') as json_file_read:\n",
    "    data = json.load(json_file_read)"
   ]
  },
  {
   "cell_type": "code",
   "execution_count": 33,
   "id": "1b3cace4",
   "metadata": {},
   "outputs": [
    {
     "data": {
      "text/plain": [
       "[{'name': 'Vaibhab', 'languages': ['python', 'C++']},\n",
       " {'name': 'babu', 'languages': ['python', 'C++']},\n",
       " {'name': 'Sandeep', 'languages': ['python', 'C++']},\n",
       " {'name': 'Tejashri', 'languages': ['python', 'C++']},\n",
       " {'name': 'Pritom', 'languages': ['python', 'SQL']}]"
      ]
     },
     "execution_count": 33,
     "metadata": {},
     "output_type": "execute_result"
    }
   ],
   "source": [
    "data"
   ]
  },
  {
   "cell_type": "code",
   "execution_count": null,
   "id": "d639cef2",
   "metadata": {},
   "outputs": [],
   "source": [
    "loads = loading from string\n",
    "load = loading from file\n",
    "dumps = dumping to string\n",
    "dump = dumping to file"
   ]
  }
 ],
 "metadata": {
  "kernelspec": {
   "display_name": "Python 3 (ipykernel)",
   "language": "python",
   "name": "python3"
  },
  "language_info": {
   "codemirror_mode": {
    "name": "ipython",
    "version": 3
   },
   "file_extension": ".py",
   "mimetype": "text/x-python",
   "name": "python",
   "nbconvert_exporter": "python",
   "pygments_lexer": "ipython3",
   "version": "3.7.8"
  }
 },
 "nbformat": 4,
 "nbformat_minor": 5
}

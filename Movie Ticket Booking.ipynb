{
 "cells": [
  {
   "cell_type": "code",
   "execution_count": null,
   "id": "264df1ce",
   "metadata": {},
   "outputs": [],
   "source": []
  },
  {
   "cell_type": "code",
   "execution_count": 3,
   "id": "707e8556",
   "metadata": {},
   "outputs": [],
   "source": [
    "rows = 10\n",
    "seats = 10"
   ]
  },
  {
   "cell_type": "code",
   "execution_count": 55,
   "id": "c0744054",
   "metadata": {},
   "outputs": [],
   "source": [
    "class Movie:\n",
    "    def __init__(self,rows,seats):\n",
    "        self.tot_seats = rows*seats\n",
    "        self.all_seats = [[str(i)+'_'+str(j) for j in range(seats)] for i in range(rows)]\n",
    "        self.Booked_ticket_person = [[None for j in range(seats)] for i in range(rows)]\n",
    "        self.ticket_price = 50\n",
    "        self.Total_income = 0\n",
    "        self.Booked_seat = 0\n",
    "        \n",
    "    def print_total_seats(self):\n",
    "        print(f'Total seats in the hall is {self.tot_seats}')\n",
    "        \n",
    "    def book_ticket(self,row,col,name,Phone_number,gender,age):\n",
    "        if self.all_seats[row][col] == str(row)+'_'+str(col):\n",
    "            self.person_details ={\n",
    "                'name' : name,\n",
    "                'phone' : Phone_number,\n",
    "                'gender' : gender,\n",
    "                'age' : age\n",
    "            }\n",
    "            \n",
    "            self.Booked_ticket_person[row][col] = self.person_details\n",
    "            self.all_seats[row][col] ='B'\n",
    "            self.Booked_seat+=1\n",
    "            self.Total_income+=(self.ticket_price*(row+1))\n",
    "            print('Your Seat is Booked !!')\n",
    "            \n",
    "        else:\n",
    "            print('The seat is not available !')\n",
    "            \n",
    "    def states(self):\n",
    "        print('Number of purchased ticket -',self.Booked_seat)\n",
    "        print('Current Income -',self.Total_income)\n",
    "        \n",
    "    def show_seats(self):\n",
    "        for row in self.all_seats:\n",
    "            for each_seat in row:\n",
    "                print(each_seat,end = ' ')\n",
    "            print('\\n ------------------- \\n')\n",
    "            \n",
    "    def check_availability(self,row,col):\n",
    "        if self.all_seats[row][col] != 'B':\n",
    "            print('seat is not booked!!')\n",
    "        else:\n",
    "            print('Seat is Booked By')\n",
    "            person = self.Booked_ticket_person[row][col]\n",
    "            print(person['name'])\n",
    "            print(person['phone'])\n",
    "            print(person['gender'])\n",
    "            print(person['age'])\n",
    "            \n",
    "        \n",
    "        "
   ]
  },
  {
   "cell_type": "code",
   "execution_count": 56,
   "id": "ddc99cc8",
   "metadata": {},
   "outputs": [],
   "source": [
    "Edyoda_theatre = Movie(rows,seats)"
   ]
  },
  {
   "cell_type": "code",
   "execution_count": 57,
   "id": "acab3fa7",
   "metadata": {},
   "outputs": [
    {
     "name": "stdout",
     "output_type": "stream",
     "text": [
      "0_0 0_1 0_2 0_3 0_4 0_5 0_6 0_7 0_8 0_9 \n",
      " ------------------- \n",
      "\n",
      "1_0 1_1 1_2 1_3 1_4 1_5 1_6 1_7 1_8 1_9 \n",
      " ------------------- \n",
      "\n",
      "2_0 2_1 2_2 2_3 2_4 2_5 2_6 2_7 2_8 2_9 \n",
      " ------------------- \n",
      "\n",
      "3_0 3_1 3_2 3_3 3_4 3_5 3_6 3_7 3_8 3_9 \n",
      " ------------------- \n",
      "\n",
      "4_0 4_1 4_2 4_3 4_4 4_5 4_6 4_7 4_8 4_9 \n",
      " ------------------- \n",
      "\n",
      "5_0 5_1 5_2 5_3 5_4 5_5 5_6 5_7 5_8 5_9 \n",
      " ------------------- \n",
      "\n",
      "6_0 6_1 6_2 6_3 6_4 6_5 6_6 6_7 6_8 6_9 \n",
      " ------------------- \n",
      "\n",
      "7_0 7_1 7_2 7_3 7_4 7_5 7_6 7_7 7_8 7_9 \n",
      " ------------------- \n",
      "\n",
      "8_0 8_1 8_2 8_3 8_4 8_5 8_6 8_7 8_8 8_9 \n",
      " ------------------- \n",
      "\n",
      "9_0 9_1 9_2 9_3 9_4 9_5 9_6 9_7 9_8 9_9 \n",
      " ------------------- \n",
      "\n"
     ]
    }
   ],
   "source": [
    "Edyoda_theatre.show_seats()"
   ]
  },
  {
   "cell_type": "code",
   "execution_count": 58,
   "id": "7e4c955b",
   "metadata": {},
   "outputs": [
    {
     "name": "stdout",
     "output_type": "stream",
     "text": [
      "Your Seat is Booked !!\n",
      "The seat is not available !\n",
      "Your Seat is Booked !!\n",
      "Your Seat is Booked !!\n",
      "Your Seat is Booked !!\n"
     ]
    }
   ],
   "source": [
    "Edyoda_theatre.book_ticket(0,0,'Pritom','9823293293','M','28')\n",
    "Edyoda_theatre.book_ticket(0,0,'Vaibhav', '9876543210', 'M', '28')\n",
    "Edyoda_theatre.book_ticket(0,5,'Vamshi', '9876546578', 'M', '23')\n",
    "Edyoda_theatre.book_ticket(2,3,'prasad','8978009011','M','25')\n",
    "Edyoda_theatre.book_ticket(8,2,'Vamshi Krishna', '9703481194', 'M','25')"
   ]
  },
  {
   "cell_type": "code",
   "execution_count": 59,
   "id": "9552c600",
   "metadata": {},
   "outputs": [
    {
     "name": "stdout",
     "output_type": "stream",
     "text": [
      "Number of purchased ticket - 4\n",
      "Current Income - 700\n"
     ]
    }
   ],
   "source": [
    "Edyoda_theatre.states()"
   ]
  },
  {
   "cell_type": "code",
   "execution_count": 50,
   "id": "251c3896",
   "metadata": {},
   "outputs": [
    {
     "name": "stdout",
     "output_type": "stream",
     "text": [
      "B 0_1 0_2 0_3 0_4 B 0_6 0_7 0_8 0_9 \n",
      " ------------------- \n",
      "\n",
      "1_0 1_1 1_2 1_3 1_4 1_5 1_6 1_7 1_8 1_9 \n",
      " ------------------- \n",
      "\n",
      "2_0 2_1 2_2 B 2_4 2_5 2_6 2_7 2_8 2_9 \n",
      " ------------------- \n",
      "\n",
      "3_0 3_1 3_2 3_3 3_4 3_5 3_6 3_7 3_8 3_9 \n",
      " ------------------- \n",
      "\n",
      "4_0 4_1 4_2 4_3 4_4 4_5 4_6 4_7 4_8 4_9 \n",
      " ------------------- \n",
      "\n",
      "5_0 5_1 5_2 5_3 5_4 5_5 5_6 5_7 5_8 5_9 \n",
      " ------------------- \n",
      "\n",
      "6_0 6_1 6_2 6_3 6_4 6_5 6_6 6_7 6_8 6_9 \n",
      " ------------------- \n",
      "\n",
      "7_0 7_1 7_2 7_3 7_4 7_5 7_6 7_7 7_8 7_9 \n",
      " ------------------- \n",
      "\n",
      "8_0 8_1 B 8_3 8_4 8_5 8_6 8_7 8_8 8_9 \n",
      " ------------------- \n",
      "\n",
      "9_0 9_1 9_2 9_3 9_4 9_5 9_6 9_7 9_8 9_9 \n",
      " ------------------- \n",
      "\n"
     ]
    }
   ],
   "source": [
    "Edyoda_theatre.show_seats()"
   ]
  },
  {
   "cell_type": "code",
   "execution_count": 54,
   "id": "a47ecfc7",
   "metadata": {},
   "outputs": [
    {
     "name": "stdout",
     "output_type": "stream",
     "text": [
      "seat is not booked!!\n"
     ]
    }
   ],
   "source": [
    "Edyoda_theatre.check_availability(3,9)"
   ]
  },
  {
   "cell_type": "code",
   "execution_count": null,
   "id": "c520c4a1",
   "metadata": {},
   "outputs": [],
   "source": []
  }
 ],
 "metadata": {
  "kernelspec": {
   "display_name": "Python 3 (ipykernel)",
   "language": "python",
   "name": "python3"
  },
  "language_info": {
   "codemirror_mode": {
    "name": "ipython",
    "version": 3
   },
   "file_extension": ".py",
   "mimetype": "text/x-python",
   "name": "python",
   "nbconvert_exporter": "python",
   "pygments_lexer": "ipython3",
   "version": "3.7.8"
  }
 },
 "nbformat": 4,
 "nbformat_minor": 5
}
